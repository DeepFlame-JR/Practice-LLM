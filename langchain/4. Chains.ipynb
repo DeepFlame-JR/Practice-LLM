{
 "cells": [
  {
   "cell_type": "code",
   "execution_count": 2,
   "metadata": {},
   "outputs": [],
   "source": [
    "import os\n",
    "from configparser import ConfigParser\n",
    "\n",
    "config = ConfigParser()\n",
    "config.read('../conf.ini')\n",
    "openai_token=config['secret']['openai_token']\n",
    "os.environ['OPENAI_API_KEY'] = openai_token"
   ]
  },
  {
   "cell_type": "markdown",
   "metadata": {},
   "source": [
    "# Chains\n",
    "- 좀 더 복잡한 Application을 구동하기 위해서 사용\n",
    "    - 구성 요소를 체인으로 함께 구성\n",
    "    - Application을 디버스, 유지 관리가 훨씬 편해짐"
   ]
  },
  {
   "cell_type": "code",
   "execution_count": 4,
   "metadata": {},
   "outputs": [
    {
     "name": "stdout",
     "output_type": "stream",
     "text": [
      "\n",
      "\n",
      "1. Joyful Socks\n",
      "2. Colorful Crew\n",
      "3. Rainbow Hues\n",
      "4. Bright Feet\n",
      "5. Happy Toes\n"
     ]
    }
   ],
   "source": [
    "from langchain.llms import OpenAI\n",
    "from langchain.prompts import PromptTemplate\n",
    "\n",
    "llm = OpenAI(temperature=0.9)\n",
    "prompt = PromptTemplate(\n",
    "    input_variables=[\"company\", \"product\"],\n",
    "    template=\"Can you recommend 5 good names for {company} that makes {product}?\",\n",
    ")\n",
    "\n",
    "from langchain.chains import LLMChain\n",
    "chain = LLMChain(llm=llm, prompt=prompt)\n",
    "\n",
    "print(chain.run({\n",
    "    'company': \"ABC Startup\",\n",
    "    'product': \"colorful socks\"\n",
    "    }))"
   ]
  },
  {
   "cell_type": "markdown",
   "metadata": {},
   "source": [
    "## How to\n",
    "### Async API\n",
    "- asyncio 라이브러리를 통한 체인의 비동기 지원"
   ]
  },
  {
   "cell_type": "code",
   "execution_count": 6,
   "metadata": {},
   "outputs": [
    {
     "name": "stdout",
     "output_type": "stream",
     "text": [
      "\n",
      "\n",
      "Diamond Sports Gear.\n",
      "\n",
      "\n",
      "Diamond Glove Sports.\n",
      "\n",
      "\n",
      "Hit & Field Supplies.\n",
      "\n",
      "\n",
      "Batty's Baseball Supplies\n",
      "\n",
      "\n",
      "Batter's Edge.\n",
      "\u001b[1mAsync function executed in 0.84 seconds.\u001b[0m\n",
      "\n",
      "\n",
      "Diamond Sports.\n",
      "\n",
      "\n",
      "Diamond Sports Gear.\n",
      "\n",
      "\n",
      "Batters and Blades.\n",
      "\n",
      "\n",
      "Diamond Bat Company.\n",
      "\n",
      "\n",
      "PowerPlay Baseball Gear.\n",
      "\u001b[1mSerial executed in 2.72 seconds.\u001b[0m\n"
     ]
    }
   ],
   "source": [
    "import asyncio\n",
    "import time\n",
    "\n",
    "from langchain.llms import OpenAI\n",
    "from langchain.prompts import PromptTemplate\n",
    "from langchain.chains import LLMChain\n",
    "\n",
    "\n",
    "def generate_serially():\n",
    "    llm = OpenAI(temperature=0.9)\n",
    "    prompt = PromptTemplate(\n",
    "        input_variables=[\"product\"],\n",
    "        template=\"What is a good name for a company that makes {product}?\",\n",
    "    )\n",
    "    chain = LLMChain(llm=llm, prompt=prompt)\n",
    "    for _ in range(5):\n",
    "        resp = chain.run(product=\"baseball equipment\")\n",
    "        print(resp)\n",
    "\n",
    "\n",
    "async def async_generate(chain):\n",
    "    resp = await chain.arun(product=\"baseball equipment\")\n",
    "    print(resp)\n",
    "\n",
    "\n",
    "async def generate_concurrently():\n",
    "    llm = OpenAI(temperature=0.9)\n",
    "    prompt = PromptTemplate(\n",
    "        input_variables=[\"product\"],\n",
    "        template=\"What is a good name for a company that makes {product}?\",\n",
    "    )\n",
    "    chain = LLMChain(llm=llm, prompt=prompt)\n",
    "    tasks = [async_generate(chain) for _ in range(5)]\n",
    "    await asyncio.gather(*tasks)\n",
    "\n",
    "\n",
    "s = time.perf_counter()\n",
    "await generate_concurrently()\n",
    "elapsed = time.perf_counter() - s\n",
    "print(\"\\033[1m\" + f\"Async function executed in {elapsed:0.2f} seconds.\" + \"\\033[0m\")\n",
    "\n",
    "s = time.perf_counter()\n",
    "generate_serially()\n",
    "elapsed = time.perf_counter() - s\n",
    "print(\"\\033[1m\" + f\"Serial executed in {elapsed:0.2f} seconds.\" + \"\\033[0m\")"
   ]
  }
 ],
 "metadata": {
  "kernelspec": {
   "display_name": "llm_env",
   "language": "python",
   "name": "python3"
  },
  "language_info": {
   "codemirror_mode": {
    "name": "ipython",
    "version": 3
   },
   "file_extension": ".py",
   "mimetype": "text/x-python",
   "name": "python",
   "nbconvert_exporter": "python",
   "pygments_lexer": "ipython3",
   "version": "3.10.5"
  },
  "orig_nbformat": 4
 },
 "nbformat": 4,
 "nbformat_minor": 2
}
